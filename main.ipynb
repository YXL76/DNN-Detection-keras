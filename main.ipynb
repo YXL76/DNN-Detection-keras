{
 "cells": [
  {
   "cell_type": "markdown",
   "metadata": {},
   "source": [
    "##### 程序的头文件"
   ]
  },
  {
   "cell_type": "code",
   "execution_count": null,
   "metadata": {},
   "outputs": [],
   "source": [
    "from tensorflow.keras import layers\n",
    "from tensorflow.keras import models\n",
    "from tensorflow.keras import optimizers\n",
    "from generations import *\n"
   ]
  },
  {
   "cell_type": "markdown",
   "metadata": {},
   "source": [
    "##### 创建神经网络模型"
   ]
  },
  {
   "cell_type": "code",
   "execution_count": null,
   "metadata": {},
   "outputs": [],
   "source": [
    "def init_model(activation):\n",
    "    model = models.Sequential()\n",
    "    model.add(\n",
    "        layers.Dense(\n",
    "            n_hidden_1, activation=activation, input_shape=(payloadBits_per_OFDM * 2,)\n",
    "        )\n",
    "    )\n",
    "    model.add(layers.Dense(n_hidden_2, activation=activation))\n",
    "    model.add(layers.Dense(n_hidden_3, activation=activation))\n",
    "    model.add(layers.Dense(n_output, activation=\"sigmoid\"))\n",
    "\n",
    "    return model\n"
   ]
  },
  {
   "cell_type": "markdown",
   "metadata": {},
   "source": [
    "##### 配置优化器"
   ]
  },
  {
   "cell_type": "code",
   "execution_count": null,
   "metadata": {},
   "outputs": [],
   "source": [
    "def config_optimizer(model, lr):\n",
    "    model.compile(\n",
    "        optimizer=optimizers.RMSprop(lr=lr), loss=\"mse\", metrics=[bit_err]\n",
    "    )\n",
    "\n",
    "    return model\n"
   ]
  },
  {
   "cell_type": "markdown",
   "metadata": {},
   "source": [
    "##### 训练模型"
   ]
  },
  {
   "cell_type": "code",
   "execution_count": null,
   "metadata": {},
   "outputs": [],
   "source": [
    "def train_model(CP, P, pilotCarriers, dataCarriers, pilotValue, model):\n",
    "    history = model.fit(\n",
    "        training_gen(CP, P, pilotCarriers, dataCarriers, pilotValue, 1000, 20),\n",
    "        steps_per_epoch=250,\n",
    "        epochs=100,\n",
    "        validation_data=validation_gen(\n",
    "            CP, P, pilotCarriers, dataCarriers, pilotValue, 1000, 20\n",
    "        ),\n",
    "        validation_steps=1,\n",
    "        verbose=2,\n",
    "    )\n",
    "\n",
    "    return model, history\n"
   ]
  },
  {
   "cell_type": "markdown",
   "metadata": {},
   "source": [
    "##### 获得相应的数据，以及保存数据"
   ]
  },
  {
   "cell_type": "code",
   "execution_count": null,
   "metadata": {},
   "outputs": [],
   "source": [
    "def save_result(history, result_npz):\n",
    "    loss = history.history[\"loss\"]\n",
    "    bit_err = history.history[\"bit_err\"]\n",
    "    val_loss = history.history[\"val_loss\"]\n",
    "    val_bit_err = history.history[\"val_bit_err\"]\n",
    "\n",
    "    np.savez(\n",
    "        result_npz,\n",
    "        loss=loss,\n",
    "        bit_err=bit_err,\n",
    "        val_loss=val_loss,\n",
    "        val_bit_err=val_bit_err,\n",
    "    )\n"
   ]
  },
  {
   "cell_type": "markdown",
   "metadata": {},
   "source": [
    "##### 验证经训练得到的模型在各个SNR下的BER性能"
   ]
  },
  {
   "cell_type": "code",
   "execution_count": null,
   "metadata": {},
   "outputs": [],
   "source": [
    "def save_evaluate(\n",
    "    CP, P, pilotCarriers, dataCarriers, pilotValue, model, result_npy\n",
    "):\n",
    "    BER = []\n",
    "    for SNR in range(5, 30, 2):\n",
    "        y = model.evaluate(\n",
    "            validation_gen(\n",
    "                CP, P, pilotCarriers, dataCarriers, pilotValue, 10000, SNR\n",
    "            ),\n",
    "            steps=1,\n",
    "        )  # y=[loss_value, metrics_value]\n",
    "        BER.append(y[1])\n",
    "\n",
    "    np.save(result_npy, BER)\n"
   ]
  },
  {
   "cell_type": "markdown",
   "metadata": {},
   "source": [
    "##### 绘制训练ber和验证ber"
   ]
  },
  {
   "cell_type": "code",
   "execution_count": null,
   "metadata": {},
   "outputs": [],
   "source": [
    "import matplotlib.pyplot as plt\n",
    "\n",
    "%matplotlib inline\n",
    "\n",
    "def draw_training_ber(result_npz, suffix):\n",
    "    datas = np.load(result_npz)\n",
    "    loss = datas[\"loss\"]\n",
    "    bit_err = datas[\"bit_err\"]\n",
    "    val_loss = datas[\"val_loss\"]\n",
    "    val_bit_err = datas[\"val_bit_err\"]\n",
    "\n",
    "    epochs = range(1, len(loss) + 1)\n",
    "\n",
    "    plt.semilogy(epochs, bit_err, \"y\", label=\"Training bit_err\")\n",
    "    plt.semilogy(epochs, val_bit_err, \"b\", label=\"Validation bit_err\")\n",
    "    plt.xlabel(\"epochs\")\n",
    "    plt.ylabel(\"BER\")\n",
    "    plt.title(\"Training and validation bit_err\")\n",
    "    plt.legend()\n",
    "    plt.savefig(os.path.join(\"result\", \"bit_err\" + suffix + \".jpg\"))\n",
    "\n",
    "    plt.figure()\n",
    "\n",
    "    return epochs, loss, val_loss\n"
   ]
  },
  {
   "cell_type": "markdown",
   "metadata": {},
   "source": [
    "##### 绘制训练损失和验证损失"
   ]
  },
  {
   "cell_type": "code",
   "execution_count": null,
   "metadata": {},
   "outputs": [],
   "source": [
    "def draw_loss(epochs, loss, val_loss, suffix):\n",
    "    plt.semilogy(epochs, loss, \"y\", label=\"Training loss\")\n",
    "    plt.semilogy(epochs, val_loss, \"b\", label=\"Validation loss\")\n",
    "    plt.xlabel(\"epochs\")\n",
    "    plt.ylabel(\"loss\")\n",
    "    plt.title(\"Training and validation loss\")\n",
    "    plt.legend()\n",
    "    plt.savefig(os.path.join(\"result\", \"loss\" + suffix + \".jpg\"))\n",
    "    \n",
    "    plt.figure()\n"
   ]
  },
  {
   "cell_type": "markdown",
   "metadata": {},
   "source": [
    "##### 绘制基于深度学习的信号检测方法的BER性能"
   ]
  },
  {
   "cell_type": "code",
   "execution_count": null,
   "metadata": {},
   "outputs": [],
   "source": [
    "def draw_learning_ber(result_npy, suffix):\n",
    "    BER = np.load(result_npy)\n",
    "    SNR = range(5, 30, 2)\n",
    "\n",
    "    plt.semilogy(SNR, BER, \"b\", label=\"BER\")\n",
    "    plt.xlabel(\"SNR(dB)\")\n",
    "    plt.ylabel(\"BER\")\n",
    "    plt.title(\"BER of deep learning based approach\")\n",
    "    plt.legend()\n",
    "    plt.savefig(os.path.join(\"result\", \"BER\" + suffix + \".jpg\"))\n",
    "\n",
    "    plt.show()\n"
   ]
  },
  {
   "cell_type": "code",
   "execution_count": null,
   "metadata": {},
   "outputs": [],
   "source": [
    "def run_all(CP, P, activation, lr):\n",
    "    suffix = \"_\" + \"-\".join([str(CP), str(P), activation, str(lr)])\n",
    "    result_npz = os.path.join(\"result\", \"result\" + suffix + \".npz\")\n",
    "    result_npy = \"BER\" + suffix + \".npy\"\n",
    "\n",
    "    pilotCarriers, dataCarriers = get_carriers(P)\n",
    "    pilotValue = get_pilot_value(P)\n",
    "\n",
    "    model = init_model(activation)\n",
    "    model = config_optimizer(model, lr)\n",
    "    model, history = train_model(\n",
    "        CP, P, pilotCarriers, dataCarriers, pilotValue, model\n",
    "    )\n",
    "\n",
    "    save_result(history, result_npz)\n",
    "    save_evaluate(\n",
    "        CP, P, pilotCarriers, dataCarriers, pilotValue, model, result_npy\n",
    "    )\n",
    "\n",
    "    epochs, loss, val_loss = draw_training_ber(result_npz, suffix)\n",
    "    draw_loss(epochs, loss, val_loss, suffix)\n",
    "    draw_learning_ber(result_npy, suffix)\n"
   ]
  },
  {
   "cell_type": "code",
   "execution_count": null,
   "metadata": {},
   "outputs": [],
   "source": [
    "\n",
    "run_all(16, 64, \"relu\", 0.001)\n"
   ]
  }
 ],
 "metadata": {
  "kernelspec": {
   "display_name": "Python 3",
   "language": "python",
   "name": "python3"
  },
  "language_info": {
   "codemirror_mode": {
    "name": "ipython",
    "version": 3
   },
   "file_extension": ".py",
   "mimetype": "text/x-python",
   "name": "python",
   "nbconvert_exporter": "python",
   "pygments_lexer": "ipython3",
   "version": "3.8.6"
  }
 },
 "nbformat": 4,
 "nbformat_minor": 2
}
