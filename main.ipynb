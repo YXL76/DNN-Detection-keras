{
 "cells": [
  {
   "cell_type": "markdown",
   "metadata": {},
   "source": [
    "##### 程序的头文件"
   ]
  },
  {
   "cell_type": "code",
   "execution_count": null,
   "metadata": {},
   "outputs": [],
   "source": [
    "from tensorflow.keras import layers\n",
    "from tensorflow.keras import models\n",
    "from tensorflow.keras import optimizers\n",
    "from generations import *\n"
   ]
  },
  {
   "cell_type": "markdown",
   "metadata": {},
   "source": [
    "##### 创建神经网络模型"
   ]
  },
  {
   "cell_type": "code",
   "execution_count": null,
   "metadata": {},
   "outputs": [],
   "source": [
    "model = models.Sequential()\n",
    "model.add(\n",
    "    layers.Dense(\n",
    "        n_hidden_1, activation=\"relu\", input_shape=(payloadBits_per_OFDM * 2,)\n",
    "    )\n",
    ")\n",
    "model.add(layers.Dense(n_hidden_2, activation=\"relu\"))\n",
    "model.add(layers.Dense(n_hidden_3, activation=\"relu\"))\n",
    "model.add(layers.Dense(n_output, activation=\"sigmoid\"))\n"
   ]
  },
  {
   "cell_type": "markdown",
   "metadata": {},
   "source": [
    "##### 配置优化器"
   ]
  },
  {
   "cell_type": "code",
   "execution_count": null,
   "metadata": {},
   "outputs": [],
   "source": [
    "model.compile(\n",
    "    optimizer=optimizers.RMSprop(lr=0.001), loss=\"mse\", metrics=[bit_err]\n",
    ")\n"
   ]
  },
  {
   "cell_type": "markdown",
   "metadata": {},
   "source": [
    "##### 训练模型"
   ]
  },
  {
   "cell_type": "code",
   "execution_count": null,
   "metadata": {},
   "outputs": [],
   "source": [
    "history = model.fit(\n",
    "    training_gen(1000, 20),\n",
    "    steps_per_epoch=250,\n",
    "    epochs=100,\n",
    "    validation_data=validation_gen(1000, 20),\n",
    "    validation_steps=1,\n",
    "    verbose=2,\n",
    ")\n"
   ]
  },
  {
   "cell_type": "markdown",
   "metadata": {},
   "source": [
    "##### 获得相应的数据，以及保存数据"
   ]
  },
  {
   "cell_type": "code",
   "execution_count": null,
   "metadata": {},
   "outputs": [],
   "source": [
    "loss = history.history[\"loss\"]\n",
    "bit_err = history.history[\"bit_err\"]\n",
    "val_loss = history.history[\"val_loss\"]\n",
    "val_bit_err = history.history[\"val_bit_err\"]\n",
    "\n",
    "np.savez(\n",
    "    \"./result/result.npz\",\n",
    "    loss=loss,\n",
    "    bit_err=bit_err,\n",
    "    val_loss=val_loss,\n",
    "    val_bit_err=val_bit_err,\n",
    ")\n"
   ]
  },
  {
   "cell_type": "markdown",
   "metadata": {},
   "source": [
    "##### 验证经训练得到的模型在各个SNR下的BER性能"
   ]
  },
  {
   "cell_type": "code",
   "execution_count": null,
   "metadata": {},
   "outputs": [],
   "source": [
    "BER = []\n",
    "for SNR in range(5, 30, 2):\n",
    "    y = model.evaluate_generator(\n",
    "        validation_gen(10000, SNR), steps=1\n",
    "    )  # y=[loss_value, metrics_value]\n",
    "    BER.append(y[1])\n",
    "\n",
    "np.save(\"./BER.npy\", BER)\n"
   ]
  },
  {
   "cell_type": "markdown",
   "metadata": {},
   "source": [
    "##### 绘制训练ber和验证ber"
   ]
  },
  {
   "cell_type": "code",
   "execution_count": null,
   "metadata": {},
   "outputs": [],
   "source": [
    "import matplotlib.pyplot as plt\n",
    "\n",
    "get_ipython().run_line_magic(\"matplotlib\", \"inline\")\n",
    "\n",
    "datas = np.load(\"./result/result.npz\")\n",
    "loss = datas[\"loss\"]\n",
    "bit_err = datas[\"bit_err\"]\n",
    "val_loss = datas[\"val_loss\"]\n",
    "val_bit_err = datas[\"val_bit_err\"]\n",
    "\n",
    "epochs = range(1, len(loss) + 1)\n",
    "\n",
    "plt.semilogy(epochs, bit_err, \"y\", label=\"Training bit_err\")\n",
    "plt.semilogy(epochs, val_bit_err, \"b\", label=\"Validation bit_err\")\n",
    "plt.xlabel(\"epochs\")\n",
    "plt.ylabel(\"BER\")\n",
    "plt.title(\"Training and validation bit_err\")\n",
    "plt.legend()\n",
    "plt.savefig(\"./result/bit_err.jpg\")\n",
    "\n",
    "plt.figure()\n"
   ]
  },
  {
   "cell_type": "markdown",
   "metadata": {},
   "source": [
    "##### 绘制训练损失和验证损失"
   ]
  },
  {
   "cell_type": "code",
   "execution_count": null,
   "metadata": {},
   "outputs": [],
   "source": [
    "plt.semilogy(epochs, loss, \"y\", label=\"Training loss\")\n",
    "plt.semilogy(epochs, val_loss, \"b\", label=\"Validation loss\")\n",
    "plt.xlabel(\"epochs\")\n",
    "plt.ylabel(\"loss\")\n",
    "plt.title(\"Training and validation loss\")\n",
    "plt.legend()\n",
    "plt.savefig(\"./result/loss.jpg\")\n",
    "\n",
    "plt.figure()\n"
   ]
  },
  {
   "cell_type": "markdown",
   "metadata": {},
   "source": [
    "##### 绘制基于深度学习的信号检测方法的BER性能"
   ]
  },
  {
   "cell_type": "code",
   "execution_count": null,
   "metadata": {},
   "outputs": [],
   "source": [
    "BER = np.load(\"./BER.npy\")\n",
    "SNR = range(5, 30, 2)\n",
    "\n",
    "plt.semilogy(SNR, BER, \"b\", label=\"BER\")\n",
    "plt.xlabel(\"SNR(dB)\")\n",
    "plt.ylabel(\"BER\")\n",
    "plt.title(\"BER of deep learning based approach\")\n",
    "plt.legend()\n",
    "plt.savefig(\"./result/BER.jpg\")\n",
    "\n",
    "plt.show()\n"
   ]
  }
 ],
 "metadata": {
  "kernelspec": {
   "name": "python3",
   "display_name": "Python 3.8.6 64-bit",
   "metadata": {
    "interpreter": {
     "hash": "767d51c1340bd893661ea55ea3124f6de3c7a262a8b4abca0554b478b1e2ff90"
    }
   }
  },
  "language_info": {
   "codemirror_mode": {
    "name": "ipython",
    "version": 3
   },
   "file_extension": ".py",
   "mimetype": "text/x-python",
   "name": "python",
   "nbconvert_exporter": "python",
   "pygments_lexer": "ipython3",
   "version": "3.8.6-final"
  }
 },
 "nbformat": 4,
 "nbformat_minor": 2
}