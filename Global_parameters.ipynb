{
 "cells": [
  {
   "cell_type": "markdown",
   "metadata": {},
   "source": [
    "##### 程序的头文件"
   ]
  },
  {
   "cell_type": "code",
   "execution_count": null,
   "metadata": {},
   "outputs": [],
   "source": [
    "import os\n",
    "import numpy as np\n",
    "import tensorflow as tf"
   ]
  },
  {
   "cell_type": "markdown",
   "metadata": {},
   "source": [
    "##### （OFDM）无线通信中一系列参数的设置"
   ]
  },
  {
   "cell_type": "code",
   "execution_count": null,
   "metadata": {},
   "outputs": [],
   "source": [
    "K = 64\n",
    "CP = K//4\n",
    "P = 64\n",
    "allCarriers = np.arange(K)  # indices of all subcarriers ([0, 1, ... K-1])\n",
    "\n",
    "if P < K:\n",
    "    pilotCarriers = allCarriers[::K//P]  # Pilots is every (K/P)th carrier.\n",
    "    dataCarriers = np.delete(allCarriers, pilotCarriers)\n",
    "else:  # K=P\n",
    "    pilotCarriers = allCarriers\n",
    "    dataCarriers = []\n",
    "\n",
    "mu = 2\n",
    "payloadBits_per_OFDM = K*mu\n",
    "SNRdb = 20"
   ]
  },
  {
   "cell_type": "markdown",
   "metadata": {},
   "source": [
    "##### 神经网络中参数的设置"
   ]
  },
  {
   "cell_type": "code",
   "execution_count": null,
   "metadata": {},
   "outputs": [],
   "source": [
    "n_hidden_1 = 500  # 1st layer num features\n",
    "n_hidden_2 = 250  # 2nd layer num features\n",
    "n_hidden_3 = 120  # 3rd layer num features\n",
    "n_input = 256\n",
    "n_output = 16  # every 16 bit are predicted by a model"
   ]
  },
  {
   "cell_type": "markdown",
   "metadata": {},
   "source": [
    "##### QPSK调制函数的定义"
   ]
  },
  {
   "cell_type": "code",
   "execution_count": null,
   "metadata": {},
   "outputs": [],
   "source": [
    "def Modulation(bits):\n",
    "    bit_r = bits.reshape((int(len(bits)/mu), mu))\n",
    "    return (2*bit_r[:, 0]-1)+1j*(2*bit_r[:, 1]-1)  # This is just for QPSK or 4QAM modulation"
   ]
  },
  {
   "cell_type": "markdown",
   "metadata": {},
   "source": [
    "##### 64导频序列值的获取"
   ]
  },
  {
   "cell_type": "code",
   "execution_count": null,
   "metadata": {},
   "outputs": [],
   "source": [
    "Pilot_file_name = 'Pilot_' + str(P)\n",
    "if os.path.isfile(Pilot_file_name):\n",
    "    print('Load Training Pilots txt')\n",
    "    # load file\n",
    "    pilots_bits = np.loadtxt(Pilot_file_name, delimiter=',')\n",
    "else:\n",
    "    # write file\n",
    "    pilots_bits = np.random.binomial(n=1, p=0.5, size=(K*mu, ))\n",
    "    np.savetxt(Pilot_file_name, pilots_bits, delimiter=',')\n",
    "pilotValue = Modulation(pilots_bits)"
   ]
  },
  {
   "cell_type": "markdown",
   "metadata": {},
   "source": [
    "##### 逆快速傅里叶变换函数"
   ]
  },
  {
   "cell_type": "code",
   "execution_count": null,
   "metadata": {},
   "outputs": [],
   "source": [
    "def IDFT(OFDM_data):\n",
    "    return np.fft.ifft(OFDM_data)"
   ]
  },
  {
   "cell_type": "markdown",
   "metadata": {},
   "source": [
    "##### 加循环前缀（CP）"
   ]
  },
  {
   "cell_type": "code",
   "execution_count": null,
   "metadata": {},
   "outputs": [],
   "source": [
    "def addCP(OFDM_time):\n",
    "    cp = OFDM_time[-CP:]               # take the last CP samples ...\n",
    "    return np.hstack([cp, OFDM_time])  # ... and add them to the beginning"
   ]
  },
  {
   "cell_type": "markdown",
   "metadata": {},
   "source": [
    "##### 信道模型函数的定义"
   ]
  },
  {
   "cell_type": "code",
   "execution_count": null,
   "metadata": {},
   "outputs": [],
   "source": [
    "def channel(signal, channelResponse, SNRdb):\n",
    "    convolved = np.convolve(signal, channelResponse)  # 时域卷积\n",
    "    signal_power = np.mean(abs(convolved**2))  # 信号功率\n",
    "    sigma2 = signal_power * 10**(-SNRdb/10)  # 噪声功率\n",
    "    noise = np.sqrt(sigma2/2) * (np.random.randn(*convolved.shape) + 1j*np.random.randn(*convolved.shape))  # 高斯噪声\n",
    "    return convolved + noise  # 时域接收信号"
   ]
  },
  {
   "cell_type": "markdown",
   "metadata": {},
   "source": [
    "##### 去掉循环前缀"
   ]
  },
  {
   "cell_type": "code",
   "execution_count": null,
   "metadata": {},
   "outputs": [],
   "source": [
    "def removeCP(signal):\n",
    "    return signal[CP:(CP+K)]"
   ]
  },
  {
   "cell_type": "markdown",
   "metadata": {},
   "source": [
    "##### 快速傅里叶变换"
   ]
  },
  {
   "cell_type": "code",
   "execution_count": null,
   "metadata": {},
   "outputs": [],
   "source": [
    "def DFT(OFDM_RX):\n",
    "    return np.fft.fft(OFDM_RX)"
   ]
  },
  {
   "cell_type": "markdown",
   "metadata": {},
   "source": [
    "##### 导频符号和原始发送符号共同经过一次模拟获得接收符号，该获得的接收符号作为训练输入"
   ]
  },
  {
   "cell_type": "code",
   "execution_count": null,
   "metadata": {},
   "outputs": [],
   "source": [
    "def ofdm_simulate(codeword, channelResponse, SNRdb):\n",
    "    #导频符号\n",
    "    data_bits = np.random.binomial(n=1, p=0.5, size=(2*(K-P),))\n",
    "    QAM = Modulation(data_bits)\n",
    "    OFDM_data = np.zeros(K, dtype=complex)\n",
    "    OFDM_data[pilotCarriers] = pilotValue\n",
    "    OFDM_data[dataCarriers] = QAM\n",
    "    OFDM_time = IDFT(OFDM_data)\n",
    "    OFDM_withCP = addCP(OFDM_time)\n",
    "    OFDM_TX = OFDM_withCP\n",
    "    OFDM_RX = channel(OFDM_TX, channelResponse, SNRdb)\n",
    "    OFDM_RX_noCP = removeCP(OFDM_RX)\n",
    "    OFDM_RX_noCP = DFT(OFDM_RX_noCP)\n",
    "\n",
    "    # 发送信息符号\n",
    "    symbol = np.zeros(K, dtype=complex)\n",
    "    codeword_qam = Modulation(codeword)\n",
    "    symbol[np.arange(K)] = codeword_qam\n",
    "    OFDM_data_codeword = symbol\n",
    "    OFDM_time_codeword = IDFT(OFDM_data_codeword)\n",
    "    OFDM_withCP_cordword = addCP(OFDM_time_codeword)\n",
    "    OFDM_RX_codeword = channel(OFDM_withCP_cordword, channelResponse, SNRdb)\n",
    "    OFDM_RX_noCP_codeword = removeCP(OFDM_RX_codeword)\n",
    "    OFDM_RX_noCP_codeword = DFT(OFDM_RX_noCP_codeword)\n",
    "    \n",
    "    # 获得的接收信号作为神经网络的输入\n",
    "    return np.concatenate((np.concatenate((np.real(OFDM_RX_noCP), np.imag(OFDM_RX_noCP))), np.concatenate((np.real(OFDM_RX_noCP_codeword), np.imag(OFDM_RX_noCP_codeword))))), abs(channelResponse)"
   ]
  },
  {
   "cell_type": "markdown",
   "metadata": {},
   "source": [
    "##### BER的定义"
   ]
  },
  {
   "cell_type": "code",
   "execution_count": null,
   "metadata": {},
   "outputs": [],
   "source": [
    "def bit_err(y_true, y_pred):\n",
    "    err = 1 - tf.reduce_mean(tf.reduce_mean(tf.cast(tf.equal(tf.sign(y_pred - 0.5), tf.cast(tf.sign(y_true - 0.5), tf.float32)), dtype=tf.float32), 1))\n",
    "    return err"
   ]
  }
 ],
 "metadata": {
  "kernelspec": {
   "name": "python3",
   "display_name": "Python 3.8.6 64-bit",
   "metadata": {
    "interpreter": {
     "hash": "767d51c1340bd893661ea55ea3124f6de3c7a262a8b4abca0554b478b1e2ff90"
    }
   }
  },
  "language_info": {
   "codemirror_mode": {
    "name": "ipython",
    "version": 3
   },
   "file_extension": ".py",
   "mimetype": "text/x-python",
   "name": "python",
   "nbconvert_exporter": "python",
   "pygments_lexer": "ipython3",
   "version": "3.8.6-final"
  }
 },
 "nbformat": 4,
 "nbformat_minor": 2
}