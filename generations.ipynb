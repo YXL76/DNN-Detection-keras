{
 "cells": [
  {
   "cell_type": "markdown",
   "metadata": {},
   "source": [
    "##### 将Global_parameters这个模块中的参数以及函数导入该程序中"
   ]
  },
  {
   "cell_type": "code",
   "execution_count": null,
   "metadata": {},
   "outputs": [],
   "source": [
    "from Global_parameters import *\n"
   ]
  },
  {
   "cell_type": "markdown",
   "metadata": {},
   "source": [
    "##### 训练信道以及验证信道信息的获取"
   ]
  },
  {
   "cell_type": "code",
   "execution_count": null,
   "metadata": {},
   "outputs": [],
   "source": [
    "channel_train = np.load(\"./Hdatas/channel_train.npy\")\n",
    "train_size = channel_train.shape[0]\n",
    "channel_validation = np.load(\"./Hdatas/channel_test.npy\")\n",
    "validation_size = channel_validation.shape[0]\n"
   ]
  },
  {
   "cell_type": "markdown",
   "metadata": {},
   "source": [
    "##### 训练数据的生成"
   ]
  },
  {
   "cell_type": "code",
   "execution_count": null,
   "metadata": {},
   "outputs": [],
   "source": [
    "def training_gen(CP, P, pilotCarriers, dataCarriers, pilotValue, bs, SNRdb=20):\n",
    "    while True:\n",
    "        input_samples_train = []\n",
    "        input_labels_train = []\n",
    "        for index_k in range(0, bs):\n",
    "            data_bits = np.random.binomial(\n",
    "                n=1, p=0.5, size=(payloadBits_per_OFDM,)\n",
    "            )\n",
    "            channel_response = channel_train[np.random.randint(0, train_size)]\n",
    "            signal_output, para = ofdm_simulate(\n",
    "                CP,\n",
    "                P,\n",
    "                pilotCarriers,\n",
    "                dataCarriers,\n",
    "                pilotValue,\n",
    "                data_bits,\n",
    "                channel_response,\n",
    "                SNRdb,\n",
    "            )\n",
    "            input_labels_train.append(data_bits[16:32])\n",
    "            input_samples_train.append(signal_output)\n",
    "        yield (np.asarray(input_samples_train), np.asarray(input_labels_train))\n"
   ]
  },
  {
   "cell_type": "markdown",
   "metadata": {},
   "source": [
    "##### 验证数据的生成"
   ]
  },
  {
   "cell_type": "code",
   "execution_count": null,
   "metadata": {},
   "outputs": [],
   "source": [
    "def validation_gen(\n",
    "    CP, P, pilotCarriers, dataCarriers, pilotValue, bs, SNRdb=20\n",
    "):\n",
    "    while True:\n",
    "        input_samples_validation = []\n",
    "        input_labels_validation = []\n",
    "        for index_k in range(0, bs):\n",
    "            data_bits = np.random.binomial(\n",
    "                n=1, p=0.5, size=(payloadBits_per_OFDM,)\n",
    "            )\n",
    "            channel_response = channel_validation[\n",
    "                np.random.randint(0, validation_size)\n",
    "            ]\n",
    "            signal_output, para = ofdm_simulate(\n",
    "                CP,\n",
    "                P,\n",
    "                pilotCarriers,\n",
    "                dataCarriers,\n",
    "                pilotValue,\n",
    "                data_bits,\n",
    "                channel_response,\n",
    "                SNRdb,\n",
    "            )\n",
    "            input_labels_validation.append(data_bits[16:32])\n",
    "            input_samples_validation.append(signal_output)\n",
    "        yield (\n",
    "            np.asarray(input_samples_validation),\n",
    "            np.asarray(input_labels_validation),\n",
    "        )\n"
   ]
  }
 ],
 "metadata": {
  "kernelspec": {
   "display_name": "Python 3",
   "language": "python",
   "name": "python3"
  },
  "language_info": {
   "codemirror_mode": {
    "name": "ipython",
    "version": 3
   },
   "file_extension": ".py",
   "mimetype": "text/x-python",
   "name": "python",
   "nbconvert_exporter": "python",
   "pygments_lexer": "ipython3",
   "version": "3.8.6"
  }
 },
 "nbformat": 4,
 "nbformat_minor": 2
}